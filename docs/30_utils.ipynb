{
 "cells": [
  {
   "cell_type": "code",
   "execution_count": 1,
   "metadata": {},
   "outputs": [],
   "source": [
    "#| echo: false\n",
    "%load_ext autoreload\n",
    "%autoreload 2\n",
    "%config InlineBackend.figure_format = 'retina'"
   ]
  },
  {
   "cell_type": "raw",
   "metadata": {},
   "source": [
    "---\n",
    "title: utils\n",
    "tbl-colwidths: [25,5,10,50]\n",
    "---"
   ]
  },
  {
   "cell_type": "markdown",
   "metadata": {},
   "source": [
    "Various utility functions for checking and defining compute engine, logging and creating the experimentation documentation."
   ]
  },
  {
   "cell_type": "markdown",
   "metadata": {},
   "source": []
  },
  {
   "cell_type": "markdown",
   "metadata": {},
   "source": [
    "***\n",
    "### `check_device` {.unnumbered}\n",
    "> set_all_seeds(seed:int)\n",
    "\n",
    "*Check which compute device is available on the machine.*\n",
    "\n",
    "Arguments\n",
    "\n",
    "|       | type    |default| description|\n",
    "|--------|--------|--------|--------|\n",
    "| **verbose**  | bool   |None|verbose argument - prints all|"
   ]
  },
  {
   "cell_type": "markdown",
   "metadata": {},
   "source": [
    "***\n",
    "### `set_all_seeds` {.unnumbered}\n",
    "> check_device(verbose:bool)\n",
    "\n",
    "*Set the seed for all packages: python, numpy, torch, torch.cuda, and mps*\n",
    "\n",
    "Arguments\n",
    "\n",
    "|       | type    |default| description|\n",
    "|--------|--------|--------|--------|\n",
    "| **seed**  | int   |None|Positive integer value.|"
   ]
  },
  {
   "cell_type": "markdown",
   "metadata": {},
   "source": []
  }
 ],
 "metadata": {
  "kernelspec": {
   "display_name": "fm-ml",
   "language": "python",
   "name": "python3"
  },
  "language_info": {
   "codemirror_mode": {
    "name": "ipython",
    "version": 3
   },
   "file_extension": ".py",
   "mimetype": "text/x-python",
   "name": "python",
   "nbconvert_exporter": "python",
   "pygments_lexer": "ipython3",
   "version": "3.11.7"
  }
 },
 "nbformat": 4,
 "nbformat_minor": 2
}
