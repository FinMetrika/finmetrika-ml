{
 "cells": [
  {
   "cell_type": "markdown",
   "metadata": {},
   "source": [
    "# Set up the environment"
   ]
  },
  {
   "cell_type": "code",
   "execution_count": null,
   "metadata": {},
   "outputs": [
    {
     "name": "stdout",
     "output_type": "stream",
     "text": [
      "Author: Ita Cirovic Donev (FinMetrika)\n",
      "\n",
      "Python implementation: CPython\n",
      "Python version       : 3.11.5\n",
      "IPython version      : 8.18.1\n",
      "\n",
      "torch       : 2.1.1\n",
      "transformers: 4.36.0\n",
      "pandas      : 2.1.4\n",
      "numpy       : 1.26.2\n",
      "\n"
     ]
    }
   ],
   "source": [
    "%load_ext autoreload\n",
    "%load_ext watermark\n",
    "%watermark -a 'Ita Cirovic Donev (FinMetrika)' -v -p torch,transformers,pandas,numpy\n",
    "%autoreload 2\n",
    "%matplotlib notebook\n",
    "%matplotlib inline"
   ]
  },
  {
   "cell_type": "code",
   "execution_count": null,
   "metadata": {},
   "outputs": [
    {
     "name": "stdout",
     "output_type": "stream",
     "text": [
      "This is Python 3.11.5 | packaged by conda-forge | (main, Aug 27 2023, 03:33:12) [Clang 15.0.7 ]\n"
     ]
    }
   ],
   "source": [
    "#| echo: false\n",
    "import sys, os\n",
    "# Project related source code\n",
    "sys.path.insert(0, '../src')\n",
    "print('This is Python ' + sys.version)"
   ]
  },
  {
   "cell_type": "code",
   "execution_count": null,
   "metadata": {},
   "outputs": [],
   "source": [
    "from tqdm import tqdm\n",
    "from joblib import load\n",
    "import pandas as pd\n",
    "tqdm.pandas()\n",
    "import numpy as np\n",
    "from datasets import load_from_disk\n",
    "\n",
    "import matplotlib.pyplot as plt\n",
    "import seaborn as sns\n",
    "# Set the style to 'ggplot'\n",
    "plt.style.use('ggplot')\n",
    "\n",
    "from finmetrika_ml import utils\n",
    "from finmetrika_ml.data import data_processing, vizualization\n",
    "\n",
    "from pconfig import ProjectConfig"
   ]
  },
  {
   "cell_type": "code",
   "execution_count": null,
   "metadata": {},
   "outputs": [],
   "source": [
    "MODEL_NAME = \"insert_name\"\n",
    "model_ckpt = MODEL_NAME + \"insert_name\"\n",
    "DATASET_NAME = \"vdatatrx\"\n",
    "DATASET_NAME_ENCODED = \"vdatatrx-encoded\"\n",
    "LABEL_ENCODER = \"label-encoder-vdatatrx\"\n",
    "\n",
    "TEST_RUN = True"
   ]
  },
  {
   "cell_type": "code",
   "execution_count": null,
   "metadata": {},
   "outputs": [
    {
     "name": "stdout",
     "output_type": "stream",
     "text": [
      "Using mps device!\n"
     ]
    }
   ],
   "source": [
    "FLAGS = ProjectConfig()\n",
    "DEVICE = utils.check_device(FLAGS)\n",
    "utils.set_all_seeds(FLAGS.seed)\n",
    "\n",
    "model_path = FLAGS.dir_models/model_ckpt\n",
    "if not os.path.exists(model_path):\n",
    "    print(f'Creating path: {model_path}')\n",
    "    os.mkdir(model_path)\n",
    "    \n",
    "path_predictions = model_path/\"predictions\"\n",
    "if not os.path.exists(path_predictions):\n",
    "    print(f'Creating path: {path_predictions}')\n",
    "    os.mkdir(path_predictions)"
   ]
  }
 ],
 "metadata": {
  "language_info": {
   "name": "python"
  }
 },
 "nbformat": 4,
 "nbformat_minor": 2
}
