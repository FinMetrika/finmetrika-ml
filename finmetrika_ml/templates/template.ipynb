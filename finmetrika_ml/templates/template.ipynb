{
 "cells": [
  {
   "cell_type": "markdown",
   "metadata": {},
   "source": [
    "# >>>> INSERT TITLE <<<<"
   ]
  },
  {
   "cell_type": "markdown",
   "metadata": {},
   "source": [
    "## Set up the environment"
   ]
  },
  {
   "cell_type": "markdown",
   "metadata": {},
   "source": [
    "### Import libraries"
   ]
  },
  {
   "cell_type": "code",
   "execution_count": null,
   "metadata": {},
   "outputs": [
    {
     "name": "stdout",
     "output_type": "stream",
     "text": [
      "Author: Ita Cirovic Donev (FinMetrika)\n",
      "\n",
      "Python implementation: CPython\n",
      "Python version       : 3.11.5\n",
      "IPython version      : 8.18.1\n",
      "\n",
      "torch       : 2.1.1\n",
      "transformers: 4.36.0\n",
      "pandas      : 2.1.4\n",
      "numpy       : 1.26.2\n",
      "\n"
     ]
    }
   ],
   "source": [
    "%load_ext autoreload\n",
    "%load_ext watermark\n",
    "%watermark -a 'Ita Cirovic Donev (FinMetrika)' -v -p torch,transformers,pandas,numpy\n",
    "%autoreload 2\n",
    "%matplotlib notebook\n",
    "%matplotlib inline"
   ]
  },
  {
   "cell_type": "code",
   "execution_count": null,
   "metadata": {},
   "outputs": [
    {
     "name": "stdout",
     "output_type": "stream",
     "text": [
      "This is Python 3.11.5 | packaged by conda-forge | (main, Aug 27 2023, 03:33:12) [Clang 15.0.7 ]\n"
     ]
    }
   ],
   "source": [
    "#| echo: false\n",
    "import sys, os\n",
    "# Project related source code\n",
    "sys.path.insert(0, '../src')\n",
    "print('This is Python ' + sys.version)"
   ]
  },
  {
   "cell_type": "code",
   "execution_count": null,
   "metadata": {},
   "outputs": [],
   "source": [
    "from tqdm import tqdm\n",
    "from joblib import load\n",
    "import pandas as pd\n",
    "tqdm.pandas()\n",
    "import numpy as np\n",
    "from datasets import load_from_disk\n",
    "\n",
    "import matplotlib.pyplot as plt\n",
    "import seaborn as sns\n",
    "# Set the style to 'ggplot'\n",
    "plt.style.use('ggplot')\n",
    "\n",
    "from finmetrika_ml import utils\n",
    "from finmetrika_ml.data import data_processing, vizualization\n",
    "\n",
    "from pconfig import ProjectConfig"
   ]
  },
  {
   "cell_type": "markdown",
   "metadata": {},
   "source": [
    "### Define notebook variables"
   ]
  },
  {
   "cell_type": "code",
   "execution_count": null,
   "metadata": {},
   "outputs": [],
   "source": [
    "FLAGS = ProjectConfig()\n",
    "DEVICE = utils.check_device(FLAGS)\n",
    "utils.set_all_seeds(FLAGS.seed)"
   ]
  },
  {
   "cell_type": "code",
   "execution_count": null,
   "metadata": {},
   "outputs": [],
   "source": [
    "# Check which datasets we have locally\n",
    "!ls -l {FLAGS.dir_data}"
   ]
  },
  {
   "cell_type": "markdown",
   "metadata": {},
   "source": [
    "Define notebook variables:"
   ]
  },
  {
   "cell_type": "code",
   "execution_count": null,
   "metadata": {},
   "outputs": [],
   "source": [
    "BASE_MODEL_NAME = \"insert_name\"\n",
    "MODEL_NAME = \"insert_name\"\n",
    "model_ckpt = BASE_MODEL_NAME + MODEL_NAME\n",
    "model_path = FLAGS.dir_models/model_ckpt\n",
    "utils.check_path(model_path)\n",
    "path_predictions = model_path/\"predictions\"\n",
    "utils.check_path(path_predictions)\n",
    "\n",
    "DATASET_NAME = \"insert_name\"\n",
    "DATASET_NAME_ENCODED = \"insert_name\"\n",
    "LABEL_ENCODER = \"insert_name\"\n",
    "\n",
    "TEST_RUN = True\n",
    "RUN_ON_MAC = True"
   ]
  },
  {
   "cell_type": "markdown",
   "metadata": {},
   "source": [
    "# Load data"
   ]
  },
  {
   "cell_type": "markdown",
   "metadata": {},
   "source": []
  }
 ],
 "metadata": {
  "language_info": {
   "name": "python"
  }
 },
 "nbformat": 4,
 "nbformat_minor": 2
}
